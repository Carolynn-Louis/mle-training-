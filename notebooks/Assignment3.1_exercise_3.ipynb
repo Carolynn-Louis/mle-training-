{
 "cells": [
  {
   "cell_type": "markdown",
   "id": "98ba66aa-8c4e-4967-9948-383991ae3b41",
   "metadata": {},
   "source": [
    "## Import Necessary Libraries"
   ]
  },
  {
   "cell_type": "code",
   "execution_count": 3,
   "id": "d175163e-ed18-44ce-a940-d254995b8125",
   "metadata": {},
   "outputs": [],
   "source": [
    "import numpy as np\n",
    "import pandas as pd\n",
    "from sklearn.model_selection import train_test_split\n",
    "from sklearn.pipeline import Pipeline\n",
    "from sklearn.compose import ColumnTransformer\n",
    "from sklearn.preprocessing import StandardScaler, OneHotEncoder\n",
    "from sklearn.impute import SimpleImputer\n",
    "from sklearn.base import BaseEstimator, TransformerMixin\n",
    "from sklearn.linear_model import LinearRegression\n",
    "from sklearn.metrics import mean_squared_error\n",
    "import os\n",
    "import tarfile\n",
    "import urllib"
   ]
  },
  {
   "cell_type": "markdown",
   "id": "e32073a6-ddc8-422e-a98c-cfd02ee72a9a",
   "metadata": {},
   "source": [
    "## Define the Custom Transformer"
   ]
  },
  {
   "cell_type": "code",
   "execution_count": 4,
   "id": "bfd78ce0-804b-49ed-ade3-db22c46af93b",
   "metadata": {},
   "outputs": [],
   "source": [
    "class CombinedAttributesAdder(BaseEstimator, TransformerMixin):\n",
    "    def __init__(self, add_bedrooms_per_room=True):\n",
    "        self.add_bedrooms_per_room = add_bedrooms_per_room\n",
    "\n",
    "    def fit(self, X, y=None):\n",
    "        return self  \n",
    "\n",
    "    def transform(self, X):\n",
    "        # Indices for the columns needed\n",
    "        rooms_ix, bedrooms_ix, population_ix, household_ix = 3, 4, 5, 6\n",
    "        \n",
    "        rooms_per_household = X[:, rooms_ix] / X[:, household_ix]\n",
    "        population_per_household = X[:, population_ix] / X[:, household_ix]\n",
    "        \n",
    "        if self.add_bedrooms_per_room:\n",
    "            bedrooms_per_room = X[:, bedrooms_ix] / X[:, rooms_ix]\n",
    "            return np.c_[X, rooms_per_household, population_per_household, bedrooms_per_room]\n",
    "        else:\n",
    "            return np.c_[X, rooms_per_household, population_per_household]\n"
   ]
  },
  {
   "cell_type": "markdown",
   "id": "911fbe8c-3b19-42e4-a9ca-4d6f06c54ae0",
   "metadata": {},
   "source": [
    "## Load and Prepare Data"
   ]
  },
  {
   "cell_type": "code",
   "execution_count": 5,
   "id": "5df622ac-3e0d-4d42-b09a-8a4aa2f3b5d0",
   "metadata": {},
   "outputs": [],
   "source": [
    "DOWNLOAD_ROOT = \"https://raw.githubusercontent.com/ageron/handson-ml2/master/\"\n",
    "HOUSING_PATH = os.path.join(\"datasets\", \"housing\")\n",
    "HOUSING_URL = DOWNLOAD_ROOT + \"datasets/housing/housing.tgz\"\n",
    "\n",
    "def fetch_housing_data(housing_url=HOUSING_URL, housing_path=HOUSING_PATH):\n",
    "    os.makedirs(housing_path, exist_ok=True)\n",
    "    tgz_path = os.path.join(housing_path, \"housing.tgz\")\n",
    "    urllib.request.urlretrieve(housing_url, tgz_path)\n",
    "    housing_tgz = tarfile.open(tgz_path)\n",
    "    housing_tgz.extractall(path=housing_path)\n",
    "    housing_tgz.close()\n",
    "\n",
    "\n"
   ]
  },
  {
   "cell_type": "code",
   "execution_count": 6,
   "id": "4a706181-4cdc-4a3a-885c-1283be4fcbd6",
   "metadata": {},
   "outputs": [],
   "source": [
    "fetch_housing_data()"
   ]
  },
  {
   "cell_type": "code",
   "execution_count": 7,
   "id": "7a565713-5359-4782-be19-92aca17daf24",
   "metadata": {},
   "outputs": [],
   "source": [
    "def load_housing_data(housing_path=HOUSING_PATH):\n",
    "    csv_path = os.path.join(housing_path, \"housing.csv\")\n",
    "    return pd.read_csv(csv_path)"
   ]
  },
  {
   "cell_type": "code",
   "execution_count": 8,
   "id": "c2ea18ef-0288-4b76-8fa0-3e9d992e195d",
   "metadata": {},
   "outputs": [],
   "source": [
    "housing = load_housing_data()"
   ]
  },
  {
   "cell_type": "code",
   "execution_count": 9,
   "id": "051dbfaa-8f7b-4619-8a51-2bf2b2fc1b66",
   "metadata": {},
   "outputs": [],
   "source": [
    "# Split into train and test sets\n",
    "train_set, test_set = train_test_split(housing, test_size=0.2, random_state=42)\n",
    "\n",
    "# Separate features and target variable\n",
    "housing_features = train_set.drop(\"median_house_value\", axis=1)\n",
    "housing_labels = train_set[\"median_house_value\"].copy()"
   ]
  },
  {
   "cell_type": "markdown",
   "id": "1e25c4a5-90fb-4b64-99a2-2cf64da7d79e",
   "metadata": {},
   "source": [
    "## Build and Use the Pipeline"
   ]
  },
  {
   "cell_type": "code",
   "execution_count": 10,
   "id": "0c1d20e3-bcee-4a80-9533-43a7e0b6b623",
   "metadata": {},
   "outputs": [],
   "source": [
    "# Define numerical and categorical attributes\n",
    "num_attribs = list(housing_features.drop(\"ocean_proximity\", axis=1))\n",
    "cat_attribs = [\"ocean_proximity\"]\n",
    "\n",
    "# Numerical pipeline\n",
    "num_pipeline = Pipeline([\n",
    "    ('imputer', SimpleImputer(strategy=\"median\")),\n",
    "    ('attribs_adder', CombinedAttributesAdder()),\n",
    "    ('std_scaler', StandardScaler()),\n",
    "])\n",
    "\n",
    "# Full pipeline using ColumnTransformer\n",
    "full_pipeline = ColumnTransformer([\n",
    "    (\"num\", num_pipeline, num_attribs),\n",
    "    (\"cat\", OneHotEncoder(), cat_attribs),\n",
    "])\n",
    "\n",
    "# Transform the data\n",
    "housing_prepared = full_pipeline.fit_transform(housing_features)\n"
   ]
  },
  {
   "cell_type": "markdown",
   "id": "5ba86712-95b3-4b5c-a6b0-a44062168a33",
   "metadata": {},
   "source": [
    "## Train and Evaluate the Model"
   ]
  },
  {
   "cell_type": "code",
   "execution_count": 11,
   "id": "b3a71f47-904b-43b1-b864-36773481017d",
   "metadata": {},
   "outputs": [
    {
     "name": "stdout",
     "output_type": "stream",
     "text": [
      "Root Mean Squared Error: 72701.32600762136\n"
     ]
    }
   ],
   "source": [
    "# Train a linear regression model\n",
    "lin_reg = LinearRegression()\n",
    "lin_reg.fit(housing_prepared, housing_labels)\n",
    "\n",
    "# Evaluate the model using the test set\n",
    "housing_test_features = test_set.drop(\"median_house_value\", axis=1)\n",
    "housing_test_labels = test_set[\"median_house_value\"].copy()\n",
    "\n",
    "housing_test_prepared = full_pipeline.transform(housing_test_features)\n",
    "\n",
    "# Make predictions\n",
    "predictions = lin_reg.predict(housing_test_prepared)\n",
    "\n",
    "# Evaluate using RMSE\n",
    "mse = mean_squared_error(housing_test_labels, predictions)\n",
    "rmse = np.sqrt(mse)\n",
    "\n",
    "print(\"Root Mean Squared Error:\", rmse)\n"
   ]
  },
  {
   "cell_type": "code",
   "execution_count": null,
   "id": "be03d0f3-55e7-4546-bf14-a4157e934990",
   "metadata": {},
   "outputs": [],
   "source": []
  },
  {
   "cell_type": "code",
   "execution_count": null,
   "id": "654ae6cc-e0cb-4e38-8556-2035530d7c1b",
   "metadata": {},
   "outputs": [],
   "source": []
  }
 ],
 "metadata": {
  "kernelspec": {
   "display_name": "Python 3 (ipykernel)",
   "language": "python",
   "name": "python3"
  },
  "language_info": {
   "codemirror_mode": {
    "name": "ipython",
    "version": 3
   },
   "file_extension": ".py",
   "mimetype": "text/x-python",
   "name": "python",
   "nbconvert_exporter": "python",
   "pygments_lexer": "ipython3",
   "version": "3.9.19"
  }
 },
 "nbformat": 4,
 "nbformat_minor": 5
}
